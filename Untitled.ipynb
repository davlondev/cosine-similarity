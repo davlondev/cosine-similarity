{
 "cells": [
  {
   "cell_type": "code",
   "execution_count": 61,
   "id": "29693c51-06f5-4a1d-b696-6e09a4410f22",
   "metadata": {},
   "outputs": [],
   "source": [
    "import pandas as pd\n",
    "from tqdm import tqdm\n",
    "import math\n",
    "from random import randint"
   ]
  },
  {
   "cell_type": "code",
   "execution_count": 38,
   "id": "294e5830-1ae2-4a9e-9439-db99c2f9b39e",
   "metadata": {},
   "outputs": [
    {
     "data": {
      "text/plain": [
       "\"A bartender is working at a saloon, serving drinks to customers. After he fills a stereotypically Irish man's bucket with beer, Carrie Nation and her followers burst inside. They assault the Irish man, pulling his hat over his eyes and then dumping the beer over his head. The group then begin wrecking the bar, smashing the fixtures, mirrors, and breaking the cash register. The bartender then sprays seltzer water in Nation's face before a group of policemen appear and order everybody to leave.[1]\""
      ]
     },
     "execution_count": 38,
     "metadata": {},
     "output_type": "execute_result"
    }
   ],
   "source": [
    "dataset = pd.read_csv(\"wiki_movie_plots_deduped.csv\")['Plot'].to_list()\n",
    "dataset[0]"
   ]
  },
  {
   "cell_type": "code",
   "execution_count": 39,
   "id": "d3da4765-17d5-41fa-a756-8cd4a0b93735",
   "metadata": {},
   "outputs": [
    {
     "data": {
      "text/plain": [
       "34886"
      ]
     },
     "execution_count": 39,
     "metadata": {},
     "output_type": "execute_result"
    }
   ],
   "source": [
    "len(dataset)"
   ]
  },
  {
   "cell_type": "code",
   "execution_count": 52,
   "id": "84e39762-e347-4d4f-bbff-ef192e315469",
   "metadata": {},
   "outputs": [],
   "source": [
    "def cosine_similarity(text1, text2):\n",
    "\n",
    "  vocab = sorted(set((text1 + ' ' + text2).split(' ')))\n",
    "  #print(vocab)\n",
    "  #print(text1, text2)\n",
    "\n",
    "  n = 0\n",
    "  d1 = 0\n",
    "  d2 = 0\n",
    "  for i in vocab:\n",
    "    c1 = text1.count(i)\n",
    "    c2 = text2.count(i)\n",
    "    n += (c1 * c2)\n",
    "\n",
    "    d1 += c1**2\n",
    "    d2 += c2**2\n",
    "  d = math.sqrt(d1) * math.sqrt(d2)\n",
    "  return n/d"
   ]
  },
  {
   "cell_type": "code",
   "execution_count": null,
   "id": "c8599cf2-4e41-494e-8ac8-bc8d699d867f",
   "metadata": {},
   "outputs": [],
   "source": []
  },
  {
   "cell_type": "code",
   "execution_count": 93,
   "id": "dd6c164f-5647-48c8-949b-8a9045c42797",
   "metadata": {},
   "outputs": [
    {
     "name": "stderr",
     "output_type": "stream",
     "text": [
      "100%|███████████████████████████████████████| 34886/34886 [00:35<00:00, 983.47it/s]"
     ]
    },
    {
     "name": "stdout",
     "output_type": "stream",
     "text": [
      "0.9956223709734929 32956\n",
      "A documentary-like opening introduces a death chamber where an execution is about to take place. Inexplicably, the man to be executed, an ethnic Korean known only as R, survives hanging but loses his memory. The officials who witness the hanging debate how to proceed, as the law could be interpreted as forbidding execution of an individual who does not recognize their crime and its punishment. They decide that they must persuade R to accept guilt by reminding him of his crimes –  at this point the film moves into a highly theatricalized film-within-a-film structure.\n",
      "In scenes of absurd and perverse humor, the officials recreate R's first crime, the rape of a young woman. This failing, they attempt to recreate his childhood by way of performing crude racist stereotypes of Koreans held by some Japanese. Exasperated, they resort to visiting the scene of R's other crime at an abandoned high school, but in an overzealous moment of reenactment, an official murders a girl. Back in the death chamber, a woman claiming to be R's \"sister\" appears one by one to the officials. She tries to convince R that his crimes are justified by Korean nationalism against a Japanese enemy, but after failing to win him over, is herself hanged. At a drinking party to celebrate her hanging, the officials reveal their guilt-ridden, violent pasts, oblivious to R and his \"sister\" lying on the floor amongst them, themselves exploring R's psyche. The prosecutor invites R to leave a free man, but when he opens the door, he is driven back by an intense burst of light from outside, symbolizing the fact that as a Korean he will never be accepted by Japanese society. Finally, R admits to the crimes, but proclaims himself innocent –  stating that if the officers execute him, then they are murderers as well. In his second hanging, R's body disappears, leaving an empty noose hanging beneath the gallows.[2]\n"
     ]
    },
    {
     "name": "stderr",
     "output_type": "stream",
     "text": [
      "\n"
     ]
    }
   ],
   "source": [
    "text = \"two men flying into space\"\n",
    "\n",
    "l = len(dataset)\n",
    "n = 20\n",
    "n = n - 1\n",
    "\n",
    "n_samples = 500\n",
    "n_ngrams_per_sample = 50\n",
    "\n",
    "highest_i = -1\n",
    "highest_sim = -1\n",
    "\n",
    "for i in tqdm(range(len(dataset))):\n",
    "    sample = dataset[i].split(' ')\n",
    "    if len(sample) < n: continue\n",
    "\n",
    "    for _ in range(n_ngrams_per_sample):\n",
    "        \n",
    "\n",
    "        r = randint(0, len(sample)-n)\n",
    "        ngram = sample[r:r+n]\n",
    "        #print(ngram)\n",
    "        #print(' '.join(ngram))\n",
    "\n",
    "        sim = cosine_similarity(text, ' '.join(ngram))\n",
    "        #print(sim)\n",
    "        \n",
    "        if sim >= highest_sim:\n",
    "            highest_i = i\n",
    "            highest_sim = sim\n",
    "        \n",
    "        \n",
    "            \n",
    "print(highest_sim, highest_i)\n",
    "print(dataset[highest_i])"
   ]
  },
  {
   "cell_type": "code",
   "execution_count": null,
   "id": "c78fba6f-7223-412a-b968-64b92ea49a0a",
   "metadata": {},
   "outputs": [],
   "source": []
  }
 ],
 "metadata": {
  "kernelspec": {
   "display_name": "Python 3 (ipykernel)",
   "language": "python",
   "name": "python3"
  },
  "language_info": {
   "codemirror_mode": {
    "name": "ipython",
    "version": 3
   },
   "file_extension": ".py",
   "mimetype": "text/x-python",
   "name": "python",
   "nbconvert_exporter": "python",
   "pygments_lexer": "ipython3",
   "version": "3.9.16"
  }
 },
 "nbformat": 4,
 "nbformat_minor": 5
}
